{
 "cells": [
  {
   "cell_type": "markdown",
   "metadata": {},
   "source": [
    "Reading excel file and making it a DataFrame"
   ]
  },
  {
   "cell_type": "code",
   "execution_count": 5,
   "metadata": {},
   "outputs": [
    {
     "data": {
      "text/html": [
       "<div>\n",
       "<style scoped>\n",
       "    .dataframe tbody tr th:only-of-type {\n",
       "        vertical-align: middle;\n",
       "    }\n",
       "\n",
       "    .dataframe tbody tr th {\n",
       "        vertical-align: top;\n",
       "    }\n",
       "\n",
       "    .dataframe thead th {\n",
       "        text-align: right;\n",
       "    }\n",
       "</style>\n",
       "<table border=\"1\" class=\"dataframe\">\n",
       "  <thead>\n",
       "    <tr style=\"text-align: right;\">\n",
       "      <th></th>\n",
       "      <th>Product</th>\n",
       "      <th>Profit per unit</th>\n",
       "      <th>Units Sold</th>\n",
       "    </tr>\n",
       "  </thead>\n",
       "  <tbody>\n",
       "    <tr>\n",
       "      <th>0</th>\n",
       "      <td>Chocolate Chip</td>\n",
       "      <td>1.00</td>\n",
       "      <td>10054</td>\n",
       "    </tr>\n",
       "    <tr>\n",
       "      <th>1</th>\n",
       "      <td>Peanut Butter</td>\n",
       "      <td>0.75</td>\n",
       "      <td>9856</td>\n",
       "    </tr>\n",
       "    <tr>\n",
       "      <th>2</th>\n",
       "      <td>Macadamia</td>\n",
       "      <td>0.85</td>\n",
       "      <td>8239</td>\n",
       "    </tr>\n",
       "    <tr>\n",
       "      <th>3</th>\n",
       "      <td>White Chocolate</td>\n",
       "      <td>1.05</td>\n",
       "      <td>2390</td>\n",
       "    </tr>\n",
       "    <tr>\n",
       "      <th>4</th>\n",
       "      <td>Sugar Cookie</td>\n",
       "      <td>0.95</td>\n",
       "      <td>11546</td>\n",
       "    </tr>\n",
       "    <tr>\n",
       "      <th>5</th>\n",
       "      <td>Gingerbread</td>\n",
       "      <td>1.30</td>\n",
       "      <td>1012</td>\n",
       "    </tr>\n",
       "  </tbody>\n",
       "</table>\n",
       "</div>"
      ],
      "text/plain": [
       "           Product  Profit per unit  Units Sold\n",
       "0   Chocolate Chip             1.00       10054\n",
       "1    Peanut Butter             0.75        9856\n",
       "2        Macadamia             0.85        8239\n",
       "3  White Chocolate             1.05        2390\n",
       "4     Sugar Cookie             0.95       11546\n",
       "5      Gingerbread             1.30        1012"
      ]
     },
     "execution_count": 5,
     "metadata": {},
     "output_type": "execute_result"
    }
   ],
   "source": [
    "import pandas as pd\n",
    "df = pd.read_excel(\"sample_test.xlsx\", header = 0)\n",
    "df"
   ]
  },
  {
   "cell_type": "markdown",
   "metadata": {},
   "source": [
    "Calculating a new column and adding it to the DataFrame"
   ]
  },
  {
   "cell_type": "code",
   "execution_count": 6,
   "metadata": {},
   "outputs": [
    {
     "data": {
      "text/html": [
       "<div>\n",
       "<style scoped>\n",
       "    .dataframe tbody tr th:only-of-type {\n",
       "        vertical-align: middle;\n",
       "    }\n",
       "\n",
       "    .dataframe tbody tr th {\n",
       "        vertical-align: top;\n",
       "    }\n",
       "\n",
       "    .dataframe thead th {\n",
       "        text-align: right;\n",
       "    }\n",
       "</style>\n",
       "<table border=\"1\" class=\"dataframe\">\n",
       "  <thead>\n",
       "    <tr style=\"text-align: right;\">\n",
       "      <th></th>\n",
       "      <th>Product</th>\n",
       "      <th>Profit per unit</th>\n",
       "      <th>Units Sold</th>\n",
       "      <th>income from product</th>\n",
       "    </tr>\n",
       "  </thead>\n",
       "  <tbody>\n",
       "    <tr>\n",
       "      <th>0</th>\n",
       "      <td>Chocolate Chip</td>\n",
       "      <td>1.00</td>\n",
       "      <td>10054</td>\n",
       "      <td>10054.00</td>\n",
       "    </tr>\n",
       "    <tr>\n",
       "      <th>1</th>\n",
       "      <td>Peanut Butter</td>\n",
       "      <td>0.75</td>\n",
       "      <td>9856</td>\n",
       "      <td>7392.00</td>\n",
       "    </tr>\n",
       "    <tr>\n",
       "      <th>2</th>\n",
       "      <td>Macadamia</td>\n",
       "      <td>0.85</td>\n",
       "      <td>8239</td>\n",
       "      <td>7003.15</td>\n",
       "    </tr>\n",
       "    <tr>\n",
       "      <th>3</th>\n",
       "      <td>White Chocolate</td>\n",
       "      <td>1.05</td>\n",
       "      <td>2390</td>\n",
       "      <td>2509.50</td>\n",
       "    </tr>\n",
       "    <tr>\n",
       "      <th>4</th>\n",
       "      <td>Sugar Cookie</td>\n",
       "      <td>0.95</td>\n",
       "      <td>11546</td>\n",
       "      <td>10968.70</td>\n",
       "    </tr>\n",
       "    <tr>\n",
       "      <th>5</th>\n",
       "      <td>Gingerbread</td>\n",
       "      <td>1.30</td>\n",
       "      <td>1012</td>\n",
       "      <td>1315.60</td>\n",
       "    </tr>\n",
       "  </tbody>\n",
       "</table>\n",
       "</div>"
      ],
      "text/plain": [
       "           Product  Profit per unit  Units Sold  income from product\n",
       "0   Chocolate Chip             1.00       10054             10054.00\n",
       "1    Peanut Butter             0.75        9856              7392.00\n",
       "2        Macadamia             0.85        8239              7003.15\n",
       "3  White Chocolate             1.05        2390              2509.50\n",
       "4     Sugar Cookie             0.95       11546             10968.70\n",
       "5      Gingerbread             1.30        1012              1315.60"
      ]
     },
     "execution_count": 6,
     "metadata": {},
     "output_type": "execute_result"
    }
   ],
   "source": [
    "df = pd.read_excel(\"sample_test.xlsx\", header = 0)\n",
    "df[\"income from product\"] = (df[\"Profit per unit\"] * df[\"Units Sold\"])\n",
    "df"
   ]
  },
  {
   "cell_type": "markdown",
   "metadata": {},
   "source": [
    "Writing it to an excel spreadsheet"
   ]
  },
  {
   "cell_type": "code",
   "execution_count": 7,
   "metadata": {},
   "outputs": [
    {
     "data": {
      "text/html": [
       "<div>\n",
       "<style scoped>\n",
       "    .dataframe tbody tr th:only-of-type {\n",
       "        vertical-align: middle;\n",
       "    }\n",
       "\n",
       "    .dataframe tbody tr th {\n",
       "        vertical-align: top;\n",
       "    }\n",
       "\n",
       "    .dataframe thead th {\n",
       "        text-align: right;\n",
       "    }\n",
       "</style>\n",
       "<table border=\"1\" class=\"dataframe\">\n",
       "  <thead>\n",
       "    <tr style=\"text-align: right;\">\n",
       "      <th></th>\n",
       "      <th>Product</th>\n",
       "      <th>Profit per unit</th>\n",
       "      <th>Units Sold</th>\n",
       "      <th>income from product</th>\n",
       "    </tr>\n",
       "  </thead>\n",
       "  <tbody>\n",
       "    <tr>\n",
       "      <th>0</th>\n",
       "      <td>Chocolate Chip</td>\n",
       "      <td>1.00</td>\n",
       "      <td>10054</td>\n",
       "      <td>10054.00</td>\n",
       "    </tr>\n",
       "    <tr>\n",
       "      <th>1</th>\n",
       "      <td>Peanut Butter</td>\n",
       "      <td>0.75</td>\n",
       "      <td>9856</td>\n",
       "      <td>7392.00</td>\n",
       "    </tr>\n",
       "    <tr>\n",
       "      <th>2</th>\n",
       "      <td>Macadamia</td>\n",
       "      <td>0.85</td>\n",
       "      <td>8239</td>\n",
       "      <td>7003.15</td>\n",
       "    </tr>\n",
       "    <tr>\n",
       "      <th>3</th>\n",
       "      <td>White Chocolate</td>\n",
       "      <td>1.05</td>\n",
       "      <td>2390</td>\n",
       "      <td>2509.50</td>\n",
       "    </tr>\n",
       "    <tr>\n",
       "      <th>4</th>\n",
       "      <td>Sugar Cookie</td>\n",
       "      <td>0.95</td>\n",
       "      <td>11546</td>\n",
       "      <td>10968.70</td>\n",
       "    </tr>\n",
       "    <tr>\n",
       "      <th>5</th>\n",
       "      <td>Gingerbread</td>\n",
       "      <td>1.30</td>\n",
       "      <td>1012</td>\n",
       "      <td>1315.60</td>\n",
       "    </tr>\n",
       "  </tbody>\n",
       "</table>\n",
       "</div>"
      ],
      "text/plain": [
       "           Product  Profit per unit  Units Sold  income from product\n",
       "0   Chocolate Chip             1.00       10054             10054.00\n",
       "1    Peanut Butter             0.75        9856              7392.00\n",
       "2        Macadamia             0.85        8239              7003.15\n",
       "3  White Chocolate             1.05        2390              2509.50\n",
       "4     Sugar Cookie             0.95       11546             10968.70\n",
       "5      Gingerbread             1.30        1012              1315.60"
      ]
     },
     "execution_count": 7,
     "metadata": {},
     "output_type": "execute_result"
    }
   ],
   "source": [
    "df.to_excel(\"output.xlsx\",sheet_name=\"New column added\")\n",
    "df"
   ]
  },
  {
   "cell_type": "markdown",
   "metadata": {},
   "source": [
    "Writing the new dataframe to a CSV file"
   ]
  },
  {
   "cell_type": "code",
   "execution_count": 8,
   "metadata": {},
   "outputs": [],
   "source": [
    "df.to_csv(\"output.csv\")"
   ]
  }
 ],
 "metadata": {
  "interpreter": {
   "hash": "875aadfef83df2dec9c378042efa51d178859156fd6e2fc4ca66081784757c1e"
  },
  "kernelspec": {
   "display_name": "Python 3.8.8 64-bit ('base': conda)",
   "name": "python3"
  },
  "language_info": {
   "codemirror_mode": {
    "name": "ipython",
    "version": 3
   },
   "file_extension": ".py",
   "mimetype": "text/x-python",
   "name": "python",
   "nbconvert_exporter": "python",
   "pygments_lexer": "ipython3",
   "version": "3.8.8"
  },
  "orig_nbformat": 4
 },
 "nbformat": 4,
 "nbformat_minor": 2
}
