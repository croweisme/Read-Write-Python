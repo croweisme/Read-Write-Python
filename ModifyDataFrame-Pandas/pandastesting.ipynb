{
 "cells": [
  {
   "cell_type": "code",
   "execution_count": 1,
   "metadata": {},
   "outputs": [],
   "source": [
    "import pandas as pd\n",
    "#This imports pandas for the whole project"
   ]
  },
  {
   "cell_type": "code",
   "execution_count": 2,
   "metadata": {},
   "outputs": [
    {
     "data": {
      "text/html": [
       "<div>\n",
       "<style scoped>\n",
       "    .dataframe tbody tr th:only-of-type {\n",
       "        vertical-align: middle;\n",
       "    }\n",
       "\n",
       "    .dataframe tbody tr th {\n",
       "        vertical-align: top;\n",
       "    }\n",
       "\n",
       "    .dataframe thead th {\n",
       "        text-align: right;\n",
       "    }\n",
       "</style>\n",
       "<table border=\"1\" class=\"dataframe\">\n",
       "  <thead>\n",
       "    <tr style=\"text-align: right;\">\n",
       "      <th></th>\n",
       "      <th>Product</th>\n",
       "      <th>Profit per unit</th>\n",
       "      <th>Units Sold</th>\n",
       "    </tr>\n",
       "  </thead>\n",
       "  <tbody>\n",
       "    <tr>\n",
       "      <th>0</th>\n",
       "      <td>Chocolate Chip</td>\n",
       "      <td>1.00</td>\n",
       "      <td>10054</td>\n",
       "    </tr>\n",
       "    <tr>\n",
       "      <th>1</th>\n",
       "      <td>Peanut Butter</td>\n",
       "      <td>0.75</td>\n",
       "      <td>9856</td>\n",
       "    </tr>\n",
       "    <tr>\n",
       "      <th>2</th>\n",
       "      <td>Macadamia</td>\n",
       "      <td>0.85</td>\n",
       "      <td>8239</td>\n",
       "    </tr>\n",
       "    <tr>\n",
       "      <th>3</th>\n",
       "      <td>White Chocolate</td>\n",
       "      <td>1.05</td>\n",
       "      <td>2390</td>\n",
       "    </tr>\n",
       "    <tr>\n",
       "      <th>4</th>\n",
       "      <td>Sugar Cookie</td>\n",
       "      <td>0.95</td>\n",
       "      <td>11546</td>\n",
       "    </tr>\n",
       "    <tr>\n",
       "      <th>5</th>\n",
       "      <td>Gingerbread</td>\n",
       "      <td>1.30</td>\n",
       "      <td>1012</td>\n",
       "    </tr>\n",
       "  </tbody>\n",
       "</table>\n",
       "</div>"
      ],
      "text/plain": [
       "           Product  Profit per unit  Units Sold\n",
       "0   Chocolate Chip             1.00       10054\n",
       "1    Peanut Butter             0.75        9856\n",
       "2        Macadamia             0.85        8239\n",
       "3  White Chocolate             1.05        2390\n",
       "4     Sugar Cookie             0.95       11546\n",
       "5      Gingerbread             1.30        1012"
      ]
     },
     "execution_count": 2,
     "metadata": {},
     "output_type": "execute_result"
    }
   ],
   "source": [
    "df = pd.read_excel(\"sample_test.xlsx\")\n",
    "df"
   ]
  },
  {
   "cell_type": "code",
   "execution_count": 3,
   "metadata": {},
   "outputs": [],
   "source": [
    "#Im going to try and experiment with the headers function to see what it actually does\n",
    "#headerzero = pd.read_csv(\"sample_test.xlsx\", header = 0)\n",
    "#headerzero\n",
    "#okay so i cant read an xlsx file as a csv, moving on "
   ]
  },
  {
   "cell_type": "code",
   "execution_count": 4,
   "metadata": {},
   "outputs": [
    {
     "data": {
      "text/plain": [
       "Index(['Product', 'Profit per unit', 'Units Sold'], dtype='object')"
      ]
     },
     "execution_count": 4,
     "metadata": {},
     "output_type": "execute_result"
    }
   ],
   "source": [
    "#experimenting with the columns function\n",
    "df.columns\n",
    "#Source: Bill's Github"
   ]
  },
  {
   "cell_type": "code",
   "execution_count": 5,
   "metadata": {},
   "outputs": [
    {
     "data": {
      "text/html": [
       "<div>\n",
       "<style scoped>\n",
       "    .dataframe tbody tr th:only-of-type {\n",
       "        vertical-align: middle;\n",
       "    }\n",
       "\n",
       "    .dataframe tbody tr th {\n",
       "        vertical-align: top;\n",
       "    }\n",
       "\n",
       "    .dataframe thead th {\n",
       "        text-align: right;\n",
       "    }\n",
       "</style>\n",
       "<table border=\"1\" class=\"dataframe\">\n",
       "  <thead>\n",
       "    <tr style=\"text-align: right;\">\n",
       "      <th></th>\n",
       "      <th>Cookies</th>\n",
       "      <th>Profit per unit</th>\n",
       "      <th>Units Sold</th>\n",
       "    </tr>\n",
       "  </thead>\n",
       "  <tbody>\n",
       "    <tr>\n",
       "      <th>0</th>\n",
       "      <td>Chocolate Chip</td>\n",
       "      <td>1.00</td>\n",
       "      <td>10054</td>\n",
       "    </tr>\n",
       "    <tr>\n",
       "      <th>1</th>\n",
       "      <td>Peanut Butter</td>\n",
       "      <td>0.75</td>\n",
       "      <td>9856</td>\n",
       "    </tr>\n",
       "    <tr>\n",
       "      <th>2</th>\n",
       "      <td>Macadamia</td>\n",
       "      <td>0.85</td>\n",
       "      <td>8239</td>\n",
       "    </tr>\n",
       "    <tr>\n",
       "      <th>3</th>\n",
       "      <td>White Chocolate</td>\n",
       "      <td>1.05</td>\n",
       "      <td>2390</td>\n",
       "    </tr>\n",
       "    <tr>\n",
       "      <th>4</th>\n",
       "      <td>Sugar Cookie</td>\n",
       "      <td>0.95</td>\n",
       "      <td>11546</td>\n",
       "    </tr>\n",
       "    <tr>\n",
       "      <th>5</th>\n",
       "      <td>Gingerbread</td>\n",
       "      <td>1.30</td>\n",
       "      <td>1012</td>\n",
       "    </tr>\n",
       "  </tbody>\n",
       "</table>\n",
       "</div>"
      ],
      "text/plain": [
       "           Cookies  Profit per unit  Units Sold\n",
       "0   Chocolate Chip             1.00       10054\n",
       "1    Peanut Butter             0.75        9856\n",
       "2        Macadamia             0.85        8239\n",
       "3  White Chocolate             1.05        2390\n",
       "4     Sugar Cookie             0.95       11546\n",
       "5      Gingerbread             1.30        1012"
      ]
     },
     "execution_count": 5,
     "metadata": {},
     "output_type": "execute_result"
    }
   ],
   "source": [
    "#I'm going to try and rename one of the columns to something else\n",
    "#df[\"Product\"] = df[\"Cookies\"] this didnt work\n",
    "df = df.rename(columns={'Product': 'Cookies'}) #AHA it worked\n",
    "df"
   ]
  },
  {
   "cell_type": "code",
   "execution_count": 6,
   "metadata": {},
   "outputs": [
    {
     "data": {
      "text/plain": [
       "Cookies             object\n",
       "Profit per unit    float64\n",
       "Units Sold           int64\n",
       "dtype: object"
      ]
     },
     "execution_count": 6,
     "metadata": {},
     "output_type": "execute_result"
    }
   ],
   "source": [
    "df.dtypes #View the data type of each column\n",
    "#Source: Bill's GitHub"
   ]
  },
  {
   "cell_type": "code",
   "execution_count": 7,
   "metadata": {},
   "outputs": [
    {
     "data": {
      "text/html": [
       "<div>\n",
       "<style scoped>\n",
       "    .dataframe tbody tr th:only-of-type {\n",
       "        vertical-align: middle;\n",
       "    }\n",
       "\n",
       "    .dataframe tbody tr th {\n",
       "        vertical-align: top;\n",
       "    }\n",
       "\n",
       "    .dataframe thead th {\n",
       "        text-align: right;\n",
       "    }\n",
       "</style>\n",
       "<table border=\"1\" class=\"dataframe\">\n",
       "  <thead>\n",
       "    <tr style=\"text-align: right;\">\n",
       "      <th></th>\n",
       "      <th>Cookies</th>\n",
       "      <th>Profit per unit</th>\n",
       "      <th>Units Sold</th>\n",
       "    </tr>\n",
       "  </thead>\n",
       "  <tbody>\n",
       "    <tr>\n",
       "      <th>0</th>\n",
       "      <td>Chocolate Chip</td>\n",
       "      <td>1.00</td>\n",
       "      <td>10054</td>\n",
       "    </tr>\n",
       "    <tr>\n",
       "      <th>1</th>\n",
       "      <td>Peanut Butter</td>\n",
       "      <td>0.75</td>\n",
       "      <td>9856</td>\n",
       "    </tr>\n",
       "    <tr>\n",
       "      <th>2</th>\n",
       "      <td>Macadamia</td>\n",
       "      <td>0.85</td>\n",
       "      <td>8239</td>\n",
       "    </tr>\n",
       "    <tr>\n",
       "      <th>3</th>\n",
       "      <td>White Chocolate</td>\n",
       "      <td>1.05</td>\n",
       "      <td>2390</td>\n",
       "    </tr>\n",
       "    <tr>\n",
       "      <th>4</th>\n",
       "      <td>Sugar Cookie</td>\n",
       "      <td>0.95</td>\n",
       "      <td>11546</td>\n",
       "    </tr>\n",
       "    <tr>\n",
       "      <th>5</th>\n",
       "      <td>Gingerbread</td>\n",
       "      <td>1.30</td>\n",
       "      <td>1012</td>\n",
       "    </tr>\n",
       "    <tr>\n",
       "      <th>6</th>\n",
       "      <td>Chocolate Chunk</td>\n",
       "      <td>1.00</td>\n",
       "      <td>12342</td>\n",
       "    </tr>\n",
       "  </tbody>\n",
       "</table>\n",
       "</div>"
      ],
      "text/plain": [
       "           Cookies  Profit per unit  Units Sold\n",
       "0   Chocolate Chip             1.00       10054\n",
       "1    Peanut Butter             0.75        9856\n",
       "2        Macadamia             0.85        8239\n",
       "3  White Chocolate             1.05        2390\n",
       "4     Sugar Cookie             0.95       11546\n",
       "5      Gingerbread             1.30        1012\n",
       "6  Chocolate Chunk             1.00       12342"
      ]
     },
     "execution_count": 7,
     "metadata": {},
     "output_type": "execute_result"
    }
   ],
   "source": [
    "#adding a new row using the append function\n",
    "#You have to make a new dataframe, and then stitch it into the larger one\n",
    "newframe = {'Cookies': 'Chocolate Chunk', 'Profit per unit': 1.00, 'Units Sold':12342} #\n",
    "df = df.append(newframe, ignore_index=True)\n",
    "df\n",
    "#oh my god it worked\n",
    "#Source: https://www.geeksforgeeks.org/how-to-add-one-row-in-an-existing-pandas-dataframe/"
   ]
  },
  {
   "cell_type": "code",
   "execution_count": 8,
   "metadata": {},
   "outputs": [
    {
     "data": {
      "text/html": [
       "<div>\n",
       "<style scoped>\n",
       "    .dataframe tbody tr th:only-of-type {\n",
       "        vertical-align: middle;\n",
       "    }\n",
       "\n",
       "    .dataframe tbody tr th {\n",
       "        vertical-align: top;\n",
       "    }\n",
       "\n",
       "    .dataframe thead th {\n",
       "        text-align: right;\n",
       "    }\n",
       "</style>\n",
       "<table border=\"1\" class=\"dataframe\">\n",
       "  <thead>\n",
       "    <tr style=\"text-align: right;\">\n",
       "      <th></th>\n",
       "      <th>Cookies</th>\n",
       "      <th>Profit per unit</th>\n",
       "      <th>Units Sold</th>\n",
       "    </tr>\n",
       "  </thead>\n",
       "  <tbody>\n",
       "    <tr>\n",
       "      <th>0</th>\n",
       "      <td>Chocolate Chip</td>\n",
       "      <td>1.00</td>\n",
       "      <td>10054</td>\n",
       "    </tr>\n",
       "    <tr>\n",
       "      <th>1</th>\n",
       "      <td>Peanut Butter</td>\n",
       "      <td>0.75</td>\n",
       "      <td>9856</td>\n",
       "    </tr>\n",
       "    <tr>\n",
       "      <th>2</th>\n",
       "      <td>Macadamia</td>\n",
       "      <td>0.85</td>\n",
       "      <td>8239</td>\n",
       "    </tr>\n",
       "    <tr>\n",
       "      <th>3</th>\n",
       "      <td>White Chocolate</td>\n",
       "      <td>1.05</td>\n",
       "      <td>2390</td>\n",
       "    </tr>\n",
       "    <tr>\n",
       "      <th>4</th>\n",
       "      <td>Sugar Cookie</td>\n",
       "      <td>0.95</td>\n",
       "      <td>11546</td>\n",
       "    </tr>\n",
       "    <tr>\n",
       "      <th>5</th>\n",
       "      <td>Gingerbread</td>\n",
       "      <td>1.30</td>\n",
       "      <td>1012</td>\n",
       "    </tr>\n",
       "    <tr>\n",
       "      <th>6</th>\n",
       "      <td>Chocolate Chunk</td>\n",
       "      <td>1.00</td>\n",
       "      <td>12342</td>\n",
       "    </tr>\n",
       "    <tr>\n",
       "      <th>7</th>\n",
       "      <td>Birthday</td>\n",
       "      <td>0.89</td>\n",
       "      <td>8745</td>\n",
       "    </tr>\n",
       "  </tbody>\n",
       "</table>\n",
       "</div>"
      ],
      "text/plain": [
       "           Cookies  Profit per unit  Units Sold\n",
       "0   Chocolate Chip             1.00       10054\n",
       "1    Peanut Butter             0.75        9856\n",
       "2        Macadamia             0.85        8239\n",
       "3  White Chocolate             1.05        2390\n",
       "4     Sugar Cookie             0.95       11546\n",
       "5      Gingerbread             1.30        1012\n",
       "6  Chocolate Chunk             1.00       12342\n",
       "7         Birthday             0.89        8745"
      ]
     },
     "execution_count": 8,
     "metadata": {},
     "output_type": "execute_result"
    }
   ],
   "source": [
    "#Adding a new row by inserting a new row as a list instead of adding it as a data frame\n",
    "df.loc[len(df.index)] = ['Birthday',0.89,8745]\n",
    "df\n",
    "\n",
    "#I absolutely most definitely prefer this method\n",
    "#Still a bit confused about what exactly the .loc function does though\n",
    "#Oh god every time i run it, the most recent line gets duplicated\n",
    "#I've just now realized that the [square] brackets are for lists, and the {Squiggly} ones are for dataframes\n",
    "#Lists can go inside dataframes, and i think dataframes can go into lists, but then the list of dataframes cant be displayed in another dataframe.... if that makes sense \n",
    "#Source: https://www.geeksforgeeks.org/how-to-add-one-row-in-an-existing-pandas-dataframe/"
   ]
  },
  {
   "cell_type": "code",
   "execution_count": 9,
   "metadata": {},
   "outputs": [
    {
     "data": {
      "text/plain": [
       "Cookies            White Chocolate\n",
       "Profit per unit               1.05\n",
       "Units Sold                    2390\n",
       "Name: 3, dtype: object"
      ]
     },
     "execution_count": 9,
     "metadata": {},
     "output_type": "execute_result"
    }
   ],
   "source": [
    "#Time to figure out what the .loc function does\n",
    "\n",
    "df.loc[3]\n",
    "#Okay so it scans and prints out the row you put in, in this case the 3rd item is White Chocolate\n",
    "#The official documentation says that it scans for 'labels'\n",
    "#Im assuming that if i wanted to have it scan for the cookie name, i would have to somehow assign the 'Cookies' column to be the label\n",
    "#similar to the 'header' function \n",
    "#Source: https://www.geeksforgeeks.org/how-to-add-one-row-in-an-existing-pandas-dataframe/"
   ]
  },
  {
   "cell_type": "code",
   "execution_count": 10,
   "metadata": {},
   "outputs": [
    {
     "data": {
      "text/plain": [
       "Int64Index([0, 1, 2, 3, 4, 5, 6, 7], dtype='int64')"
      ]
     },
     "execution_count": 10,
     "metadata": {},
     "output_type": "execute_result"
    }
   ],
   "source": [
    "#What does the index function do?\n",
    "df.index\n",
    "#Strange"
   ]
  },
  {
   "cell_type": "code",
   "execution_count": 11,
   "metadata": {},
   "outputs": [
    {
     "data": {
      "text/plain": [
       "8"
      ]
     },
     "metadata": {},
     "output_type": "display_data"
    },
    {
     "data": {
      "text/html": [
       "<div>\n",
       "<style scoped>\n",
       "    .dataframe tbody tr th:only-of-type {\n",
       "        vertical-align: middle;\n",
       "    }\n",
       "\n",
       "    .dataframe tbody tr th {\n",
       "        vertical-align: top;\n",
       "    }\n",
       "\n",
       "    .dataframe thead th {\n",
       "        text-align: right;\n",
       "    }\n",
       "</style>\n",
       "<table border=\"1\" class=\"dataframe\">\n",
       "  <thead>\n",
       "    <tr style=\"text-align: right;\">\n",
       "      <th></th>\n",
       "      <th>Cookies</th>\n",
       "      <th>Profit per unit</th>\n",
       "      <th>Units Sold</th>\n",
       "    </tr>\n",
       "  </thead>\n",
       "  <tbody>\n",
       "    <tr>\n",
       "      <th>0</th>\n",
       "      <td>Chocolate Chip</td>\n",
       "      <td>1.00</td>\n",
       "      <td>10054</td>\n",
       "    </tr>\n",
       "    <tr>\n",
       "      <th>1</th>\n",
       "      <td>Peanut Butter</td>\n",
       "      <td>0.75</td>\n",
       "      <td>9856</td>\n",
       "    </tr>\n",
       "    <tr>\n",
       "      <th>2</th>\n",
       "      <td>Macadamia</td>\n",
       "      <td>0.85</td>\n",
       "      <td>8239</td>\n",
       "    </tr>\n",
       "    <tr>\n",
       "      <th>3</th>\n",
       "      <td>White Chocolate</td>\n",
       "      <td>1.05</td>\n",
       "      <td>2390</td>\n",
       "    </tr>\n",
       "    <tr>\n",
       "      <th>4</th>\n",
       "      <td>Sugar Cookie</td>\n",
       "      <td>0.95</td>\n",
       "      <td>11546</td>\n",
       "    </tr>\n",
       "    <tr>\n",
       "      <th>5</th>\n",
       "      <td>Gingerbread</td>\n",
       "      <td>1.30</td>\n",
       "      <td>1012</td>\n",
       "    </tr>\n",
       "    <tr>\n",
       "      <th>6</th>\n",
       "      <td>Chocolate Chunk</td>\n",
       "      <td>1.00</td>\n",
       "      <td>12342</td>\n",
       "    </tr>\n",
       "    <tr>\n",
       "      <th>7</th>\n",
       "      <td>Birthday</td>\n",
       "      <td>0.89</td>\n",
       "      <td>8745</td>\n",
       "    </tr>\n",
       "  </tbody>\n",
       "</table>\n",
       "</div>"
      ],
      "text/plain": [
       "           Cookies  Profit per unit  Units Sold\n",
       "0   Chocolate Chip             1.00       10054\n",
       "1    Peanut Butter             0.75        9856\n",
       "2        Macadamia             0.85        8239\n",
       "3  White Chocolate             1.05        2390\n",
       "4     Sugar Cookie             0.95       11546\n",
       "5      Gingerbread             1.30        1012\n",
       "6  Chocolate Chunk             1.00       12342\n",
       "7         Birthday             0.89        8745"
      ]
     },
     "execution_count": 11,
     "metadata": {},
     "output_type": "execute_result"
    }
   ],
   "source": [
    "#so this function basically just finds the first empty row so that you can add a new row to it\n",
    "display(len(df.index))\n",
    "df"
   ]
  },
  {
   "cell_type": "markdown",
   "metadata": {},
   "source": [
    "df.loc[len(df.index)] essentially translates to \n",
    "\n",
    "FindThisLine[Last Line] = [New List]\n",
    "\n",
    "I am curious to know if this works if the first row in the list was labeled '1' instead of 0,\n",
    "and what exactly could cause the first row in the list to be labeled 1 instead of 0?\n",
    "\n",
    "If I subtract 1 from the Len() function does it just replace that specific line?\n",
    "\n",
    "\n",
    "Source https://www.geeksforgeeks.org/how-to-add-one-row-in-an-existing-pandas-dataframe   \n",
    "\n",
    "Source https://pandas.pydata.org/pandas-docs/stable/reference/api/pandas.read_excel.html"
   ]
  },
  {
   "cell_type": "code",
   "execution_count": 12,
   "metadata": {},
   "outputs": [
    {
     "data": {
      "text/html": [
       "<div>\n",
       "<style scoped>\n",
       "    .dataframe tbody tr th:only-of-type {\n",
       "        vertical-align: middle;\n",
       "    }\n",
       "\n",
       "    .dataframe tbody tr th {\n",
       "        vertical-align: top;\n",
       "    }\n",
       "\n",
       "    .dataframe thead th {\n",
       "        text-align: right;\n",
       "    }\n",
       "</style>\n",
       "<table border=\"1\" class=\"dataframe\">\n",
       "  <thead>\n",
       "    <tr style=\"text-align: right;\">\n",
       "      <th></th>\n",
       "      <th>Cookies</th>\n",
       "      <th>Profit per unit</th>\n",
       "      <th>Units Sold</th>\n",
       "    </tr>\n",
       "  </thead>\n",
       "  <tbody>\n",
       "    <tr>\n",
       "      <th>0</th>\n",
       "      <td>Chocolate Chip</td>\n",
       "      <td>1.00</td>\n",
       "      <td>10054</td>\n",
       "    </tr>\n",
       "    <tr>\n",
       "      <th>1</th>\n",
       "      <td>Peanut Butter</td>\n",
       "      <td>0.75</td>\n",
       "      <td>9856</td>\n",
       "    </tr>\n",
       "    <tr>\n",
       "      <th>2</th>\n",
       "      <td>Macadamia</td>\n",
       "      <td>0.85</td>\n",
       "      <td>8239</td>\n",
       "    </tr>\n",
       "    <tr>\n",
       "      <th>3</th>\n",
       "      <td>White Chocolate</td>\n",
       "      <td>1.05</td>\n",
       "      <td>2390</td>\n",
       "    </tr>\n",
       "    <tr>\n",
       "      <th>4</th>\n",
       "      <td>Sugar Cookie</td>\n",
       "      <td>0.95</td>\n",
       "      <td>11546</td>\n",
       "    </tr>\n",
       "    <tr>\n",
       "      <th>5</th>\n",
       "      <td>Gingerbread</td>\n",
       "      <td>1.30</td>\n",
       "      <td>1012</td>\n",
       "    </tr>\n",
       "    <tr>\n",
       "      <th>6</th>\n",
       "      <td>Chocolate Chunk</td>\n",
       "      <td>1.00</td>\n",
       "      <td>12342</td>\n",
       "    </tr>\n",
       "    <tr>\n",
       "      <th>7</th>\n",
       "      <td>Sprinkles</td>\n",
       "      <td>1.03</td>\n",
       "      <td>12737</td>\n",
       "    </tr>\n",
       "  </tbody>\n",
       "</table>\n",
       "</div>"
      ],
      "text/plain": [
       "           Cookies  Profit per unit  Units Sold\n",
       "0   Chocolate Chip             1.00       10054\n",
       "1    Peanut Butter             0.75        9856\n",
       "2        Macadamia             0.85        8239\n",
       "3  White Chocolate             1.05        2390\n",
       "4     Sugar Cookie             0.95       11546\n",
       "5      Gingerbread             1.30        1012\n",
       "6  Chocolate Chunk             1.00       12342\n",
       "7        Sprinkles             1.03       12737"
      ]
     },
     "execution_count": 12,
     "metadata": {},
     "output_type": "execute_result"
    }
   ],
   "source": [
    "#If I subtract 1 from the Len() function does it just replace that specific line?\n",
    "df.loc[len(df.index) -1] = [\"Sprinkles\", 1.03, 12737]\n",
    "df\n",
    "\n",
    "#it totally does\n",
    "#The birthday cookie has been replaced with sprinkles "
   ]
  },
  {
   "cell_type": "markdown",
   "metadata": {},
   "source": [
    "Now I'd like to figure out how to search for a specific row/column and edit it that way\n",
    "\n",
    "although... doing it inside python doesn't seem very easy, and i guess that makes sense, since youre supposed to just use excel for editing cells. There's no real point in editing a single cell at a time in the code considering the code is supposed to be used for editing entire chunks of data at a time"
   ]
  },
  {
   "cell_type": "code",
   "execution_count": 13,
   "metadata": {},
   "outputs": [],
   "source": [
    "#Trying to edit an individual cell at a time\n",
    "#df.loc[\"Chocolate Chip\"]\n",
    "#I am abandoning this mission "
   ]
  },
  {
   "cell_type": "code",
   "execution_count": 14,
   "metadata": {},
   "outputs": [
    {
     "data": {
      "text/plain": [
       "0     Chocolate Chip\n",
       "1      Peanut Butter\n",
       "2          Macadamia\n",
       "3    White Chocolate\n",
       "4       Sugar Cookie\n",
       "5        Gingerbread\n",
       "6    Chocolate Chunk\n",
       "7          Sprinkles\n",
       "Name: Cookies, dtype: object"
      ]
     },
     "metadata": {},
     "output_type": "display_data"
    }
   ],
   "source": [
    "#Dislaying a specifc column\n",
    "display(df['Cookies'])"
   ]
  }
 ],
 "metadata": {
  "interpreter": {
   "hash": "875aadfef83df2dec9c378042efa51d178859156fd6e2fc4ca66081784757c1e"
  },
  "kernelspec": {
   "display_name": "Python 3.8.8 64-bit ('base': conda)",
   "name": "python3"
  },
  "language_info": {
   "codemirror_mode": {
    "name": "ipython",
    "version": 3
   },
   "file_extension": ".py",
   "mimetype": "text/x-python",
   "name": "python",
   "nbconvert_exporter": "python",
   "pygments_lexer": "ipython3",
   "version": "3.8.8"
  },
  "orig_nbformat": 4
 },
 "nbformat": 4,
 "nbformat_minor": 2
}
